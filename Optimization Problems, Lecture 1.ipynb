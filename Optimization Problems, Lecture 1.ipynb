{
 "cells": [
  {
   "cell_type": "markdown",
   "metadata": {},
   "source": [
    "# OPTIMIZATION PROBLEMS, LECTURE 1"
   ]
  },
  {
   "cell_type": "markdown",
   "metadata": {},
   "source": [
    " Experimental devices help us understand something that has happened of to predict the future. \n",
    " \n",
    " There are: \n",
    " 1.  Optimization Models\n",
    " 2. Statistical Models\n",
    " 3. Simulation Models\n",
    " \n",
    "***\n",
    "## WHAT IS AN OPTIMIZATION MODEL?\n",
    " - An objective function that is to be maximized or minimized, e.g., \n",
    " ◦Minimize time spent traveling from New York to Boston \n",
    " - A set of constraints (possibly empty) that must be honored, e.g., ◦Cannot spend more than $100 \n",
    " ◦Must be in Boston before 5:00PM\n",
    " \n",
    "#Takeaways\n",
    "\n",
    "- Many problems of real importance can be formulated as an optimization problem \n",
    "- Reducing a seemingly new problem to an instance of a well-known problem allows one to use pre-existing methods for solving them \n",
    "- Solving optimization problems is computationally challenging \n",
    "- A **greedy algorithm** is often a practical approach to finding a pretty good approximate solution to an optimization problem\n",
    "\n",
    " \n"
   ]
  },
  {
   "cell_type": "markdown",
   "metadata": {},
   "source": [
    "## KNAPSACK PROBLEM"
   ]
  },
  {
   "cell_type": "markdown",
   "metadata": {},
   "source": [
    "- You have limited strength, so there is a maximum weight knapsack that you can carry \n",
    "- You would like to take more stuff than you can carry\n",
    "- How do you choose which stuff to take and which to leave behind? \n",
    "- Two variants \n",
    "◦0/1 knapsack problem \n",
    "◦Continuous or fractional knapsack problem\n"
   ]
  },
  {
   "cell_type": "markdown",
   "metadata": {},
   "source": [
    "## FORMALIZATION OF THE KNAPSACK PROBLEM"
   ]
  },
  {
   "cell_type": "markdown",
   "metadata": {},
   "source": [
    "- Each item is represented by a pair, <value, weight> \n",
    "- The knapsack can accommodate items with a total weight of no more than w \n",
    "- A vector, I, of length n, represents the set of available items.  Each element of the vector is an item \n",
    "- A vector, V, of length n, is used to indicate whether or not items are taken.  If V[i] = 1, item I[i]is taken.  If V[i] = 0, item I[i]is not taken "
   ]
  },
  {
   "cell_type": "markdown",
   "metadata": {},
   "source": [
    "## FORMALIZATION OF THE 0/1 KNAPSACK PROBLEM \n"
   ]
  },
  {
   "cell_type": "markdown",
   "metadata": {},
   "source": [
    "Find a V that maximizes \n",
    "\n",
    "\\begin{equation*}\n",
    "\\sum_{i=0}^{n-1} V[i] *I[i].value\n",
    "\\end{equation*}"
   ]
  },
  {
   "cell_type": "markdown",
   "metadata": {},
   "source": [
    "subject to the constraint that "
   ]
  },
  {
   "cell_type": "markdown",
   "metadata": {},
   "source": [
    "\\begin{equation*}\n",
    "\\sum_{i=0}^{n-1} V[i]*I[i].weight \\leq w \n",
    "\\end{equation*}"
   ]
  },
  {
   "cell_type": "markdown",
   "metadata": {},
   "source": [
    "## BRUTE FORCE ALGORITHM "
   ]
  },
  {
   "cell_type": "markdown",
   "metadata": {},
   "source": [
    "1. Enumerate all possible combinations of items.  That is to say, generate all subsets of the set of subjects.  This is called the <font color=blue>power set</font>. \n",
    "2. Remove all of the combinations whose total units exceeds the allowed weight.\n",
    "3. From the remaining combinations choose any one whose value is the largest. "
   ]
  },
  {
   "cell_type": "markdown",
   "metadata": {},
   "source": [
    "Brute force algorithm is often not practical. Because the power set is huge!!\n",
    "- Recall \n",
    "◦ A vector, V, of length n, is used to indicate whether or not items are taken.  If V[i] = 1, item I[i]is taken.  If V[i] = 0, item I[i] is not taken\n",
    "- How many possible different values can Vhave? ◦As many different binary numbers as can be represented in nbits\n",
    "- The knapsack problem is inherently exponential\n",
    "\n",
    "\n"
   ]
  },
  {
   "cell_type": "markdown",
   "metadata": {},
   "source": [
    "## IMPLEMENTATION OF THE GREEDY ALGORITHM"
   ]
  },
  {
   "cell_type": "code",
   "execution_count": 1,
   "metadata": {},
   "outputs": [],
   "source": [
    "class Food(object):\n",
    "    def __init__(self, n, v, w):\n",
    "        self.name = n\n",
    "        self.value = v\n",
    "        self.calories = w\n",
    "    def getValue(self):\n",
    "        return self.value\n",
    "    def getCost(self):\n",
    "        return self.calories\n",
    "    def density(self):\n",
    "        return self.getValue()/self.getCost()\n",
    "    def __str__(self):\n",
    "        return self.name + ': <' + str(self.value)\\\n",
    "                 + ', ' + str(self.calories) + '>'"
   ]
  },
  {
   "cell_type": "code",
   "execution_count": 2,
   "metadata": {},
   "outputs": [],
   "source": [
    "def buildMenu(names, values, calories):\n",
    "    \"\"\"names, values, calories lists of same length.\n",
    "       name a list of strings\n",
    "       values and calories lists of numbers\n",
    "       returns list of Foods\"\"\"\n",
    "    menu = []\n",
    "    for i in range(len(values)):\n",
    "        menu.append(Food(names[i], values[i],\n",
    "                          calories[i]))\n",
    "    return menu"
   ]
  },
  {
   "cell_type": "code",
   "execution_count": 3,
   "metadata": {},
   "outputs": [],
   "source": [
    "def greedy(items, maxCost, keyFunction):\n",
    "    \"\"\"Assumes items a list, maxCost >= 0,\n",
    "         keyFunction maps elements of items to numbers\"\"\"\n",
    "    #  key is used to sort the items list \n",
    "    # reverse makes it such that its from biggest to smallest\n",
    "    itemsCopy = sorted(items, key = keyFunction,\n",
    "                       reverse = True)\n",
    "    result = []\n",
    "    totalValue, totalCost = 0.0, 0.0\n",
    "    # this line will iterate through the sorted items list\n",
    "    for i in range(len(itemsCopy)):\n",
    "        # this will check to see if we can afford the most valued item\n",
    "        #if so, add it to the result, add the cost to the total cost, and its\n",
    "        #value to the total value\n",
    "        #keep iterating through the list\n",
    "        if (totalCost+itemsCopy[i].getCost()) <= maxCost:     \n",
    "            result.append(itemsCopy[i])\n",
    "            totalCost += itemsCopy[i].getCost()\n",
    "            totalValue += itemsCopy[i].getValue()\n",
    "    return (result, totalValue)"
   ]
  },
  {
   "cell_type": "code",
   "execution_count": 4,
   "metadata": {},
   "outputs": [],
   "source": [
    "def testGreedy(items, constraint, keyFunction):\n",
    "    \n",
    "    taken, val = greedy(items, constraint, keyFunction)\n",
    "    print('Total value of items taken =', val)\n",
    "    for item in taken:\n",
    "        print('   ', item)\n",
    "\n",
    "#testGReedys with constraint being maxCalories of 1000\n",
    "def testGreedys(foods, maxUnits):\n",
    "    print('Use greedy by value to allocate', maxUnits,\n",
    "          'calories')\n",
    "    #sort by the value of the food, i.e take the food with the highest value first\n",
    "    \n",
    "    testGreedy(foods, maxUnits, Food.getValue)\n",
    "    print('\\nUse greedy by cost to allocate', maxUnits,\n",
    "          'calories')\n",
    "    #take the food with the least calories/cost first. which is why the key is inverted cost\n",
    "    testGreedy(foods, maxUnits,\n",
    "               lambda x: 1/Food.getCost(x))\n",
    "    print('\\nUse greedy by density to allocate', maxUnits,\n",
    "          'calories')\n",
    "    #sort with highest density first, i.e highest value for lowest cost\n",
    "    testGreedy(foods, maxUnits, Food.density)"
   ]
  },
  {
   "cell_type": "code",
   "execution_count": 5,
   "metadata": {},
   "outputs": [
    {
     "name": "stdout",
     "output_type": "stream",
     "text": [
      "Use greedy by value to allocate 1000 calories\n",
      "Total value of items taken = 424.0\n",
      "    burger: <100, 354>\n",
      "    pizza: <95, 258>\n",
      "    beer: <90, 154>\n",
      "    wine: <89, 123>\n",
      "    apple: <50, 95>\n",
      "\n",
      "Use greedy by cost to allocate 1000 calories\n",
      "Total value of items taken = 413.0\n",
      "    apple: <50, 95>\n",
      "    wine: <89, 123>\n",
      "    cola: <79, 150>\n",
      "    beer: <90, 154>\n",
      "    donut: <10, 195>\n",
      "    pizza: <95, 258>\n",
      "\n",
      "Use greedy by density to allocate 1000 calories\n",
      "Total value of items taken = 413.0\n",
      "    wine: <89, 123>\n",
      "    beer: <90, 154>\n",
      "    cola: <79, 150>\n",
      "    apple: <50, 95>\n",
      "    pizza: <95, 258>\n",
      "    donut: <10, 195>\n"
     ]
    }
   ],
   "source": [
    "names = ['wine', 'beer', 'pizza', 'burger', 'fries',\n",
    "         'cola', 'apple', 'donut']\n",
    "values = [89,90,95,100,90,79,50,10]\n",
    "calories = [123,154,258,354,365,150,95,195]\n",
    "foods = buildMenu(names, values, calories)\n",
    "testGreedys(foods, 1000)"
   ]
  },
  {
   "cell_type": "markdown",
   "metadata": {},
   "source": [
    "- If you observe the greedy algorithm you will notice that it gives different values for each ordering/packing metric, for example, with the first ordering which is value - you pack a burger, pizza, beer, wine and an apple- and the value is indeed maximized with this metric. The next metric is by how cheap an item is, i.e cheapest item packed first and the last metric is highest density, i.e high value-low cost, item first which gives a similar result as the second metric \n",
    "- It is not always the case that value metric will always give a \"better\" solution. Because in this case with the 1000 calorie constraint it did give the \"best\" solution because we get the highest value of foods for the same calorie constraint. However if you change the constraint to say 750 calories, the value metric doesnt necessarily give the \"best solution\" as observed below. "
   ]
  },
  {
   "cell_type": "code",
   "execution_count": 9,
   "metadata": {},
   "outputs": [
    {
     "name": "stdout",
     "output_type": "stream",
     "text": [
      "Use greedy by value to allocate 750 calories\n",
      "Total value of items taken = 284.0\n",
      "    burger: <100, 354>\n",
      "    pizza: <95, 258>\n",
      "    wine: <89, 123>\n",
      "\n",
      "Use greedy by cost to allocate 750 calories\n",
      "Total value of items taken = 318.0\n",
      "    apple: <50, 95>\n",
      "    wine: <89, 123>\n",
      "    cola: <79, 150>\n",
      "    beer: <90, 154>\n",
      "    donut: <10, 195>\n",
      "\n",
      "Use greedy by density to allocate 750 calories\n",
      "Total value of items taken = 318.0\n",
      "    wine: <89, 123>\n",
      "    beer: <90, 154>\n",
      "    cola: <79, 150>\n",
      "    apple: <50, 95>\n",
      "    donut: <10, 195>\n"
     ]
    }
   ],
   "source": [
    "testGreedys(foods, 750)"
   ]
  },
  {
   "cell_type": "markdown",
   "metadata": {},
   "source": [
    "In order to truly get an optimal solution- lets try the brute force algorithm .. NEXT LECTURE!!"
   ]
  },
  {
   "cell_type": "code",
   "execution_count": null,
   "metadata": {},
   "outputs": [],
   "source": []
  }
 ],
 "metadata": {
  "kernelspec": {
   "display_name": "Python 3",
   "language": "python",
   "name": "python3"
  },
  "language_info": {
   "codemirror_mode": {
    "name": "ipython",
    "version": 3
   },
   "file_extension": ".py",
   "mimetype": "text/x-python",
   "name": "python",
   "nbconvert_exporter": "python",
   "pygments_lexer": "ipython3",
   "version": "3.7.3"
  }
 },
 "nbformat": 4,
 "nbformat_minor": 2
}
